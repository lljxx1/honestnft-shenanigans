{
 "cells": [
  {
   "cell_type": "code",
   "execution_count": 2,
   "id": "fbd62e3e-5ee8-46ab-a36d-d4e3977d1b5e",
   "metadata": {},
   "outputs": [
    {
     "name": "stdout",
     "output_type": "stream",
     "text": [
      "script dir:  /Users/max/Desktop/honestnft-shenanigans/metadata/from_raritytools/mutant-ape-yacht-club\n",
      "{'nft_traits': [{'node': {'traitType': 'Background', 'value': 'M1 Orange'}},\n",
      "                {'node': {'traitType': 'Fur', 'value': 'M1 Brown'}},\n",
      "                {'node': {'traitType': 'Clothes', 'value': 'M1 Tanktop'}},\n",
      "                {'node': {'traitType': 'Eyes', 'value': 'M1 Bored'}},\n",
      "                {'node': {'traitType': 'Mouth',\n",
      "                          'value': 'M1 Grin Multicolored'}},\n",
      "                {'node': {'traitType': 'Trait Count', 'value': 6}},\n",
      "                {'node': {'traitType': 'Hat', 'value': 'M1 Army Hat'}},\n",
      "                {'node': {'traitType': 'Earring', 'value': None}},\n",
      "                {'node': {'traitType': 'Name', 'value': None}}],\n",
      " 'rank': 9667,\n",
      " 'rarity_score': 35.93974969863006}\n",
      "--- 2.3698863983154297 seconds TO Load ---\n"
     ]
    }
   ],
   "source": [
    "import pull_from_rt\n",
    "pull_from_rt.download(\"mutant-ape-yacht-club\")\n",
    "\n",
    "\n",
    "# argument is from the url of rarity.tools of the project.\n",
    "\n",
    "# Example: https://rarity.tools/mutant-ape-yacht-club\n",
    "\n",
    "# argument is 'mutant-ape-yacht-club'\n"
   ]
  },
  {
   "cell_type": "code",
   "execution_count": null,
   "id": "fd5104a3-7103-47e9-9aac-bd2a794321e8",
   "metadata": {},
   "outputs": [],
   "source": []
  }
 ],
 "metadata": {
  "kernelspec": {
   "display_name": "Python 3",
   "language": "python",
   "name": "python3"
  },
  "language_info": {
   "codemirror_mode": {
    "name": "ipython",
    "version": 3
   },
   "file_extension": ".py",
   "mimetype": "text/x-python",
   "name": "python",
   "nbconvert_exporter": "python",
   "pygments_lexer": "ipython3",
   "version": "3.8.8"
  }
 },
 "nbformat": 4,
 "nbformat_minor": 5
}
